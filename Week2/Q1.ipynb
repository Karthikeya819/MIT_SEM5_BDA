{
 "cells": [
  {
   "cell_type": "code",
   "execution_count": 16,
   "id": "3f6fa20b",
   "metadata": {},
   "outputs": [
    {
     "name": "stderr",
     "output_type": "stream",
     "text": [
      "25/07/28 16:00:51 WARN Utils: Service 'SparkUI' could not bind on port 4040. Attempting port 4041.\n"
     ]
    }
   ],
   "source": [
    "from pyspark.sql import SparkSession\n",
    "spark = SparkSession.builder.appName(\"L2Q1\").getOrCreate()"
   ]
  },
  {
   "cell_type": "code",
   "execution_count": 17,
   "id": "e0c6ef61",
   "metadata": {},
   "outputs": [],
   "source": [
    "df = spark.read.csv('MOCK_DATA.csv', header=True)"
   ]
  },
  {
   "cell_type": "code",
   "execution_count": 18,
   "id": "2c96f42a",
   "metadata": {},
   "outputs": [
    {
     "name": "stdout",
     "output_type": "stream",
     "text": [
      "+---+----------+---------+--------------------+------+---------------+--------+\n",
      "| id|first_name|last_name|               email|gender|     ip_address|Eligible|\n",
      "+---+----------+---------+--------------------+------+---------------+--------+\n",
      "| 81|    Collin| Smithson|    csmithson28@g.co|  Male|  165.161.18.75|    true|\n",
      "| 82|       Rey|    Porte|    rporte29@ftc.gov|  Male|230.249.202.138|    true|\n",
      "| 83|    Lauren| Trattles|ltrattles2a@ning.com|  Male|    90.99.98.45|    true|\n",
      "| 84|  Maribeth|    Korba|   mkorba2b@lulu.com|Female|   78.97.131.27|    true|\n",
      "| 85|     Arlen|   Clucas|aclucas2c@redcros...|Female| 162.67.248.127|    true|\n",
      "| 86|     Alvin|   Elwell|aelwell2d@wikispa...|  Male|   87.55.66.250|    true|\n",
      "| 87|   Arlette|  Westcot|awestcot2e@bloglo...|Female|  182.93.44.158|    true|\n",
      "| 88|     Welch|    Sarle|  wsarle2f@google.cn|  Male| 208.96.202.252|    true|\n",
      "| 89|    Farlay|McLorinan|fmclorinan2g@drup...|  Male| 41.123.255.138|    true|\n",
      "| 90|   Riobard|   Farish|rfarish2h@forbes.com|  Male| 73.222.245.239|    true|\n",
      "| 91|    Osgood| Renforth|orenforth2i@examp...|  Male|   147.6.188.50|    true|\n",
      "| 92|  Freedman|  Guittet|  fguittet2j@mit.edu|  Male| 15.224.133.125|    true|\n",
      "| 93|     Davon|  Seabert|dseabert2k@networ...|  Male|  199.95.74.196|    true|\n",
      "| 94|      Yuma|  Auguste|yauguste2l@wordpr...|  Male| 152.186.134.78|    true|\n",
      "| 95|  Brantley|     Lusk|   blusk2m@skype.com|  Male|   38.182.40.66|    true|\n",
      "| 96|   Cheston|   Heeney|   cheeney2n@msu.edu|  Male|  18.134.248.46|    true|\n",
      "| 97|     Nonie|    Jorry|    njorry2o@sun.com|Female|209.109.142.212|    true|\n",
      "| 98|      Tana|  Gollard|  tgollard2p@ibm.com|Female| 253.69.112.177|    true|\n",
      "| 99|   Sampson|   Hobell|  shobell2q@1und1.de|  Male| 239.151.246.68|    true|\n",
      "|100|       Sal|Heindrick|sheindrick2r@goda...|Female|  36.171.255.32|    true|\n",
      "+---+----------+---------+--------------------+------+---------------+--------+\n",
      "only showing top 20 rows\n"
     ]
    }
   ],
   "source": [
    "filterd_df = df.withColumn(\"Eligible\", df.id > 80)\n",
    "filterd_df.filter('id > 80').show()"
   ]
  },
  {
   "cell_type": "code",
   "execution_count": 19,
   "id": "3a387fbb",
   "metadata": {},
   "outputs": [],
   "source": [
    "spark.stop()"
   ]
  },
  {
   "cell_type": "code",
   "execution_count": null,
   "id": "ea0e9d3e",
   "metadata": {},
   "outputs": [],
   "source": []
  }
 ],
 "metadata": {
  "kernelspec": {
   "display_name": "sparkenv",
   "language": "python",
   "name": "myenv"
  },
  "language_info": {
   "codemirror_mode": {
    "name": "ipython",
    "version": 3
   },
   "file_extension": ".py",
   "mimetype": "text/x-python",
   "name": "python",
   "nbconvert_exporter": "python",
   "pygments_lexer": "ipython3",
   "version": "3.11.2"
  }
 },
 "nbformat": 4,
 "nbformat_minor": 5
}
