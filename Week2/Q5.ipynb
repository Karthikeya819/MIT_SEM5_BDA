{
 "cells": [
  {
   "cell_type": "code",
   "execution_count": 1,
   "id": "005d5a5a",
   "metadata": {},
   "outputs": [
    {
     "name": "stderr",
     "output_type": "stream",
     "text": [
      "WARNING: Using incubator modules: jdk.incubator.vector\n",
      "Using Spark's default log4j profile: org/apache/spark/log4j2-defaults.properties\n",
      "25/08/04 14:22:49 WARN Utils: Your hostname, dbl-23, resolves to a loopback address: 127.0.1.1; using 172.16.58.182 instead (on interface eno1)\n",
      "25/08/04 14:22:49 WARN Utils: Set SPARK_LOCAL_IP if you need to bind to another address\n",
      "Using Spark's default log4j profile: org/apache/spark/log4j2-defaults.properties\n",
      "Setting default log level to \"WARN\".\n",
      "To adjust logging level use sc.setLogLevel(newLevel). For SparkR, use setLogLevel(newLevel).\n",
      "25/08/04 14:22:50 WARN NativeCodeLoader: Unable to load native-hadoop library for your platform... using builtin-java classes where applicable\n"
     ]
    }
   ],
   "source": [
    "from pyspark import SparkContext\n",
    "sc = SparkContext('local', 'L2Q5')"
   ]
  },
  {
   "cell_type": "code",
   "execution_count": 4,
   "id": "44e48151",
   "metadata": {},
   "outputs": [],
   "source": [
    "text_rdd = sc.textFile('sample.txt')"
   ]
  },
  {
   "cell_type": "code",
   "execution_count": 7,
   "id": "cbca8bd9",
   "metadata": {},
   "outputs": [],
   "source": [
    "words = text_rdd.flatMap(lambda x: x.lower().split())"
   ]
  },
  {
   "cell_type": "code",
   "execution_count": 10,
   "id": "d65eb152",
   "metadata": {},
   "outputs": [
    {
     "name": "stdout",
     "output_type": "stream",
     "text": [
      "Total Number of words:  200\n"
     ]
    }
   ],
   "source": [
    "print('Total Number of words: ', words.count())"
   ]
  },
  {
   "cell_type": "code",
   "execution_count": 11,
   "id": "61f9d4f8",
   "metadata": {},
   "outputs": [
    {
     "name": "stdout",
     "output_type": "stream",
     "text": [
      "Total Number of  Unique words:  145\n"
     ]
    }
   ],
   "source": [
    "print('Total Number of  Unique words: ', words.distinct().count())"
   ]
  },
  {
   "cell_type": "code",
   "execution_count": 15,
   "id": "e93ce43c",
   "metadata": {},
   "outputs": [
    {
     "name": "stdout",
     "output_type": "stream",
     "text": [
      "Total Number of words that Starts with:  22\n"
     ]
    }
   ],
   "source": [
    "words_start_with_a = words.filter(lambda word: word.startswith('a'))\n",
    "print('Total Number of words that Starts with: ', words_start_with_a.count())"
   ]
  },
  {
   "cell_type": "code",
   "execution_count": 17,
   "id": "0fc9d3e1",
   "metadata": {},
   "outputs": [],
   "source": [
    "word_counts = words.map(lambda w: (w, 1)).reduceByKey(lambda a, b: a + b)\n",
    "word_counts.saveAsTextFile('word_counts.txt')"
   ]
  },
  {
   "cell_type": "code",
   "execution_count": 19,
   "id": "18d73d2b",
   "metadata": {},
   "outputs": [
    {
     "data": {
      "text/plain": [
       "[('aenean', 5), ('eget', 5), ('sit', 4), ('donec', 4), ('quam', 3)]"
      ]
     },
     "execution_count": 19,
     "metadata": {},
     "output_type": "execute_result"
    }
   ],
   "source": [
    "top5_freq_words = word_counts.takeOrdered(5, key= lambda x: -x[1])\n",
    "top5_freq_words"
   ]
  },
  {
   "cell_type": "code",
   "execution_count": 22,
   "id": "b74f704a",
   "metadata": {},
   "outputs": [
    {
     "data": {
      "text/plain": [
       "[('ipsum', 1),\n",
       " ('dolor', 1),\n",
       " ('amet,', 1),\n",
       " ('consectetuer', 1),\n",
       " ('elit.', 1),\n",
       " ('commodo', 1),\n",
       " ('ligula', 1),\n",
       " ('dolor.', 1),\n",
       " ('massa.', 1),\n",
       " ('cum', 1),\n",
       " ('sociis', 1),\n",
       " ('natoque', 1),\n",
       " ('penatibus', 1),\n",
       " ('magnis', 1),\n",
       " ('dis', 1),\n",
       " ('parturient', 1),\n",
       " ('montes,', 1),\n",
       " ('nascetur', 1),\n",
       " ('ridiculus', 1),\n",
       " ('mus.', 1),\n",
       " ('felis,', 1),\n",
       " ('pellentesque', 1),\n",
       " ('pretium', 1),\n",
       " ('sem.', 1),\n",
       " ('massa', 1),\n",
       " ('aliquet', 1),\n",
       " ('eget,', 1),\n",
       " ('arcu.', 1),\n",
       " ('in', 1),\n",
       " ('enim', 1),\n",
       " ('rhoncus', 1),\n",
       " ('ut,', 1),\n",
       " ('imperdiet', 1),\n",
       " ('justo.', 1),\n",
       " ('dictum', 1),\n",
       " ('felis', 1),\n",
       " ('eu', 1),\n",
       " ('mollis', 1),\n",
       " ('pretium.', 1),\n",
       " ('integer', 1),\n",
       " ('cras', 1),\n",
       " ('dapibus.', 1),\n",
       " ('vivamus', 1),\n",
       " ('elementum', 1),\n",
       " ('ligula,', 1),\n",
       " ('porttitor', 1),\n",
       " ('ac,', 1),\n",
       " ('aliquam', 1),\n",
       " ('ante,', 1),\n",
       " ('dapibus', 1),\n",
       " ('in,', 1),\n",
       " ('feugiat', 1),\n",
       " ('phasellus', 1),\n",
       " ('metus', 1),\n",
       " ('varius', 1),\n",
       " ('laoreet.', 1),\n",
       " ('quisque', 1),\n",
       " ('rutrum.', 1),\n",
       " ('imperdiet.', 1),\n",
       " ('nisi', 1),\n",
       " ('vel', 1),\n",
       " ('augue.', 1),\n",
       " ('curabitur', 1),\n",
       " ('ullamcorper', 1),\n",
       " ('dui.', 1),\n",
       " ('rhoncus.', 1),\n",
       " ('tempus,', 1),\n",
       " ('tellus', 1),\n",
       " ('condimentum', 1),\n",
       " ('rhoncus,', 1),\n",
       " ('libero,', 1),\n",
       " ('neque', 1),\n",
       " ('ipsum.', 1),\n",
       " ('blandit', 1),\n",
       " ('luctus', 1),\n",
       " ('pulvinar,', 1),\n",
       " ('hendrerit', 1),\n",
       " ('id,', 1),\n",
       " ('lorem.', 1),\n",
       " ('nec', 1),\n",
       " ('odio', 1),\n",
       " ('ante', 1),\n",
       " ('tincidunt', 1),\n",
       " ('tempus.', 1),\n",
       " ('vitae', 1),\n",
       " ('sapien', 1),\n",
       " ('libero', 1),\n",
       " ('faucibus.', 1),\n",
       " ('ante.', 1),\n",
       " ('orci', 1),\n",
       " ('eros', 1),\n",
       " ('faucibus', 1),\n",
       " ('duis', 1),\n",
       " ('leo.', 1),\n",
       " ('mauris', 1),\n",
       " ('nibh.', 1),\n",
       " ('sodales', 1),\n",
       " ('sagittis', 1),\n",
       " ('magna.', 1),\n",
       " ('consequat,', 1),\n",
       " ('bibendum', 1),\n",
       " ('sodales,', 1),\n",
       " ('augue', 1),\n",
       " ('velit', 1),\n",
       " ('cursus', 1)]"
      ]
     },
     "execution_count": 22,
     "metadata": {},
     "output_type": "execute_result"
    }
   ],
   "source": [
    "min_count = word_counts.map(lambda x: x[1]).min()\n",
    "lowest_count_words = word_counts.filter(lambda x: x[1] == min_count).collect()\n",
    "lowest_count_words"
   ]
  }
 ],
 "metadata": {
  "kernelspec": {
   "display_name": "sparkenv",
   "language": "python",
   "name": "myenv"
  },
  "language_info": {
   "codemirror_mode": {
    "name": "ipython",
    "version": 3
   },
   "file_extension": ".py",
   "mimetype": "text/x-python",
   "name": "python",
   "nbconvert_exporter": "python",
   "pygments_lexer": "ipython3",
   "version": "3.11.2"
  }
 },
 "nbformat": 4,
 "nbformat_minor": 5
}
