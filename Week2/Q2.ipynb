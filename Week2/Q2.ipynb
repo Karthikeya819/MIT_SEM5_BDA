{
 "cells": [
  {
   "cell_type": "code",
   "execution_count": 1,
   "id": "f774ef20",
   "metadata": {},
   "outputs": [
    {
     "name": "stderr",
     "output_type": "stream",
     "text": [
      "WARNING: Using incubator modules: jdk.incubator.vector\n",
      "Using Spark's default log4j profile: org/apache/spark/log4j2-defaults.properties\n",
      "25/07/28 16:07:06 WARN Utils: Your hostname, dbl-23, resolves to a loopback address: 127.0.1.1; using 172.16.58.182 instead (on interface eno1)\n",
      "25/07/28 16:07:06 WARN Utils: Set SPARK_LOCAL_IP if you need to bind to another address\n",
      "Using Spark's default log4j profile: org/apache/spark/log4j2-defaults.properties\n",
      "Setting default log level to \"WARN\".\n",
      "To adjust logging level use sc.setLogLevel(newLevel). For SparkR, use setLogLevel(newLevel).\n",
      "25/07/28 16:07:06 WARN NativeCodeLoader: Unable to load native-hadoop library for your platform... using builtin-java classes where applicable\n",
      "25/07/28 16:07:07 WARN Utils: Service 'SparkUI' could not bind on port 4040. Attempting port 4041.\n"
     ]
    }
   ],
   "source": [
    "from pyspark.sql import SparkSession\n",
    "spark = SparkSession.builder.appName(\"L2Q2\").getOrCreate()"
   ]
  },
  {
   "cell_type": "code",
   "execution_count": 2,
   "id": "fc99c0e6",
   "metadata": {},
   "outputs": [],
   "source": [
    "df = spark.read.csv('MOCK_DATA.csv', header=True)"
   ]
  },
  {
   "cell_type": "code",
   "execution_count": 5,
   "id": "3ddbdcc3",
   "metadata": {},
   "outputs": [
    {
     "name": "stdout",
     "output_type": "stream",
     "text": [
      "Count:  500\n",
      "+---+----------+-----------+--------------------+-----------+---------------+\n",
      "| id|first_name|  last_name|               email|     gender|     ip_address|\n",
      "+---+----------+-----------+--------------------+-----------+---------------+\n",
      "|  1|     Ossie|    Lamborn|olamborn0@chicago...|       Male|    50.26.66.51|\n",
      "|  2|     Tonya|    Hazzard|thazzard1@canalbl...|     Female|130.135.190.120|\n",
      "|  3|     Jenni| Sedgefield|jsedgefield2@ramb...|Genderqueer|  23.100.91.208|\n",
      "|  4| Heriberto|    Lydford|hlydford3@reddit.com|       Male|  38.193.109.78|\n",
      "|  5|   Chaddie|     Haxbie|chaxbie4@creative...|       Male|145.192.132.186|\n",
      "|  6|      Toby| Strelitzer|tstrelitzer5@psu.edu|     Female| 107.100.247.36|\n",
      "|  7|     Jayme|   Ferrucci|jferrucci6@statco...|   Bigender| 109.159.10.209|\n",
      "|  8|   Marcile|  Jodrellec|mjodrellec7@blueh...|     Female| 248.32.122.143|\n",
      "|  9|    Murray|     Sonier|     msonier8@w3.org|       Male|  118.173.57.62|\n",
      "| 10|  Margette|   Christin|mchristin9@nytime...|     Female| 242.239.177.69|\n",
      "| 11|    Winnie|    Leyland|  wleylanda@time.com|     Female| 155.173.28.234|\n",
      "| 12|      Gabi|     Veysey|  gveyseyb@weibo.com|       Male|  57.161.139.30|\n",
      "| 13|    Joanna|     Gatiss| jgatissc@meetup.com|     Female| 25.244.215.184|\n",
      "| 14|    Barris|     Adicot| badicotd@utexas.edu|Genderfluid|  28.18.204.172|\n",
      "| 15|     Grant|    Letford|gletforde@dailymo...|       Male|  94.28.250.104|\n",
      "| 16|     Alice|    Quarles|    aquarlesf@hp.com|     Female|    3.118.202.4|\n",
      "| 17| Sallyanne|McEnteggart|smcenteggartg@irs...|     Female|115.243.202.191|\n",
      "| 18|   Caritta|  Willingam|cwillingamh@daily...|     Female|   42.126.24.26|\n",
      "| 19|    Joanie|     Ziehms|jziehmsi@timesonl...|     Female| 211.130.40.154|\n",
      "| 20|   Zsa zsa|    DeSousa|zdesousaj@network...|     Female|  246.54.170.82|\n",
      "+---+----------+-----------+--------------------+-----------+---------------+\n",
      "only showing top 20 rows\n"
     ]
    }
   ],
   "source": [
    "print('Count: ',df.count())\n",
    "df.show()"
   ]
  },
  {
   "cell_type": "code",
   "execution_count": 6,
   "id": "26dc52b0",
   "metadata": {},
   "outputs": [],
   "source": [
    "spark.stop()"
   ]
  }
 ],
 "metadata": {
  "kernelspec": {
   "display_name": "sparkenv",
   "language": "python",
   "name": "myenv"
  },
  "language_info": {
   "codemirror_mode": {
    "name": "ipython",
    "version": 3
   },
   "file_extension": ".py",
   "mimetype": "text/x-python",
   "name": "python",
   "nbconvert_exporter": "python",
   "pygments_lexer": "ipython3",
   "version": "3.11.2"
  }
 },
 "nbformat": 4,
 "nbformat_minor": 5
}
