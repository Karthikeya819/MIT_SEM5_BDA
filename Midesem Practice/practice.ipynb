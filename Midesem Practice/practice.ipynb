{
 "cells": [
  {
   "cell_type": "markdown",
   "metadata": {},
   "source": [
    "## PySpark Practice"
   ]
  },
  {
   "cell_type": "code",
   "execution_count": 9,
   "metadata": {},
   "outputs": [],
   "source": [
    "from pyspark.sql import SparkSession"
   ]
  },
  {
   "cell_type": "code",
   "execution_count": 10,
   "metadata": {},
   "outputs": [],
   "source": [
    "saprk = SparkSession.builder.appName('Practice').getOrCreate()"
   ]
  },
  {
   "cell_type": "code",
   "execution_count": 38,
   "metadata": {},
   "outputs": [],
   "source": [
    "df = saprk.read.csv('test.csv')"
   ]
  },
  {
   "cell_type": "code",
   "execution_count": 56,
   "metadata": {},
   "outputs": [],
   "source": [
    "df = saprk.read.csv('test.csv', header=True, inferSchema=True)"
   ]
  },
  {
   "cell_type": "code",
   "execution_count": 57,
   "metadata": {},
   "outputs": [
    {
     "name": "stdout",
     "output_type": "stream",
     "text": [
      "+----------+-----+------+\n",
      "|      Name|Marks|Branch|\n",
      "+----------+-----+------+\n",
      "|Karthikeya|   70|   CSE|\n",
      "|    Subash|   80|    IT|\n",
      "|     Manas|   75|   CSE|\n",
      "|      NULL|   77|  AIML|\n",
      "|    Anvith|   95|   CSE|\n",
      "|      NULL| NULL|  NULL|\n",
      "+----------+-----+------+\n",
      "\n"
     ]
    }
   ],
   "source": [
    "df.show()"
   ]
  },
  {
   "cell_type": "code",
   "execution_count": 17,
   "metadata": {},
   "outputs": [
    {
     "name": "stdout",
     "output_type": "stream",
     "text": [
      "root\n",
      " |-- Name: string (nullable = true)\n",
      " |-- Marks: integer (nullable = true)\n",
      "\n"
     ]
    }
   ],
   "source": [
    "df.printSchema()"
   ]
  },
  {
   "cell_type": "markdown",
   "metadata": {},
   "source": [
    "## Part1"
   ]
  },
  {
   "cell_type": "code",
   "execution_count": 18,
   "metadata": {},
   "outputs": [
    {
     "data": {
      "text/plain": [
       "['Name', 'Marks']"
      ]
     },
     "execution_count": 18,
     "metadata": {},
     "output_type": "execute_result"
    }
   ],
   "source": [
    "df.columns"
   ]
  },
  {
   "cell_type": "code",
   "execution_count": 21,
   "metadata": {},
   "outputs": [
    {
     "data": {
      "text/plain": [
       "[Row(Name='Karthikeya', Marks=70),\n",
       " Row(Name='Subash', Marks=80),\n",
       " Row(Name='Manas', Marks=75)]"
      ]
     },
     "execution_count": 21,
     "metadata": {},
     "output_type": "execute_result"
    }
   ],
   "source": [
    "df.head(3)"
   ]
  },
  {
   "cell_type": "code",
   "execution_count": 23,
   "metadata": {},
   "outputs": [
    {
     "name": "stdout",
     "output_type": "stream",
     "text": [
      "+----------+\n",
      "|      Name|\n",
      "+----------+\n",
      "|Karthikeya|\n",
      "|    Subash|\n",
      "|     Manas|\n",
      "+----------+\n",
      "\n"
     ]
    }
   ],
   "source": [
    "df.select('Name').show()"
   ]
  },
  {
   "cell_type": "code",
   "execution_count": 25,
   "metadata": {},
   "outputs": [
    {
     "name": "stdout",
     "output_type": "stream",
     "text": [
      "+----------+-----+\n",
      "|      Name|Marks|\n",
      "+----------+-----+\n",
      "|Karthikeya|   70|\n",
      "|    Subash|   80|\n",
      "|     Manas|   75|\n",
      "+----------+-----+\n",
      "\n"
     ]
    }
   ],
   "source": [
    "df.select(['Name', 'Marks']).show()"
   ]
  },
  {
   "cell_type": "code",
   "execution_count": 26,
   "metadata": {},
   "outputs": [
    {
     "data": {
      "text/plain": [
       "[('Name', 'string'), ('Marks', 'int')]"
      ]
     },
     "execution_count": 26,
     "metadata": {},
     "output_type": "execute_result"
    }
   ],
   "source": [
    "df.dtypes"
   ]
  },
  {
   "cell_type": "code",
   "execution_count": 28,
   "metadata": {},
   "outputs": [
    {
     "name": "stdout",
     "output_type": "stream",
     "text": [
      "+-------+----------+-----+\n",
      "|summary|      Name|Marks|\n",
      "+-------+----------+-----+\n",
      "|  count|         3|    3|\n",
      "|   mean|      NULL| 75.0|\n",
      "| stddev|      NULL|  5.0|\n",
      "|    min|Karthikeya|   70|\n",
      "|    max|    Subash|   80|\n",
      "+-------+----------+-----+\n",
      "\n"
     ]
    }
   ],
   "source": [
    "df.describe().show()"
   ]
  },
  {
   "cell_type": "code",
   "execution_count": 31,
   "metadata": {},
   "outputs": [],
   "source": [
    "df = df.withColumn('Marks', df['Marks']+2)"
   ]
  },
  {
   "cell_type": "code",
   "execution_count": 32,
   "metadata": {},
   "outputs": [
    {
     "name": "stdout",
     "output_type": "stream",
     "text": [
      "+----------+-----+\n",
      "|      Name|Marks|\n",
      "+----------+-----+\n",
      "|Karthikeya|   72|\n",
      "|    Subash|   82|\n",
      "|     Manas|   77|\n",
      "+----------+-----+\n",
      "\n"
     ]
    }
   ],
   "source": [
    "df.show()"
   ]
  },
  {
   "cell_type": "code",
   "execution_count": 33,
   "metadata": {},
   "outputs": [
    {
     "name": "stdout",
     "output_type": "stream",
     "text": [
      "+----------+\n",
      "|      Name|\n",
      "+----------+\n",
      "|Karthikeya|\n",
      "|    Subash|\n",
      "|     Manas|\n",
      "+----------+\n",
      "\n"
     ]
    }
   ],
   "source": [
    "df.drop('Marks').show()"
   ]
  },
  {
   "cell_type": "code",
   "execution_count": 35,
   "metadata": {},
   "outputs": [
    {
     "name": "stdout",
     "output_type": "stream",
     "text": [
      "+----------+---------+\n",
      "|      Name|New Marks|\n",
      "+----------+---------+\n",
      "|Karthikeya|       72|\n",
      "|    Subash|       82|\n",
      "|     Manas|       77|\n",
      "+----------+---------+\n",
      "\n"
     ]
    }
   ],
   "source": [
    "df.withColumnRenamed('Marks', 'New Marks').show()"
   ]
  },
  {
   "cell_type": "code",
   "execution_count": 43,
   "metadata": {},
   "outputs": [
    {
     "name": "stdout",
     "output_type": "stream",
     "text": [
      "+----------+-----+\n",
      "|      Name|Marks|\n",
      "+----------+-----+\n",
      "|Karthikeya|   70|\n",
      "|    Subash|   80|\n",
      "|     Manas|   75|\n",
      "+----------+-----+\n",
      "\n"
     ]
    }
   ],
   "source": [
    "df.na.drop().show()"
   ]
  },
  {
   "cell_type": "code",
   "execution_count": 45,
   "metadata": {},
   "outputs": [
    {
     "name": "stdout",
     "output_type": "stream",
     "text": [
      "+----------+-----+\n",
      "|      Name|Marks|\n",
      "+----------+-----+\n",
      "|Karthikeya|   70|\n",
      "|    Subash|   80|\n",
      "|     Manas|   75|\n",
      "|      NULL|   77|\n",
      "+----------+-----+\n",
      "\n"
     ]
    }
   ],
   "source": [
    "df.na.drop('all').show()"
   ]
  },
  {
   "cell_type": "code",
   "execution_count": 46,
   "metadata": {},
   "outputs": [],
   "source": [
    "# tresh, subset parameters also exist"
   ]
  },
  {
   "cell_type": "code",
   "execution_count": 48,
   "metadata": {},
   "outputs": [
    {
     "name": "stdout",
     "output_type": "stream",
     "text": [
      "+----------+-----+\n",
      "|      Name|Marks|\n",
      "+----------+-----+\n",
      "|Karthikeya|   70|\n",
      "|    Subash|   80|\n",
      "|     Manas|   75|\n",
      "| Missing..|   77|\n",
      "| Missing..| NULL|\n",
      "+----------+-----+\n",
      "\n"
     ]
    }
   ],
   "source": [
    "df.na.fill('Missing..', ['Name']).show()"
   ]
  },
  {
   "cell_type": "code",
   "execution_count": 50,
   "metadata": {},
   "outputs": [
    {
     "name": "stdout",
     "output_type": "stream",
     "text": [
      "+------+-----+\n",
      "|  Name|Marks|\n",
      "+------+-----+\n",
      "|Subash|   80|\n",
      "| Manas|   75|\n",
      "|  NULL|   77|\n",
      "+------+-----+\n",
      "\n"
     ]
    }
   ],
   "source": [
    "df.filter('Marks>=75').show()"
   ]
  },
  {
   "cell_type": "code",
   "execution_count": 52,
   "metadata": {},
   "outputs": [
    {
     "name": "stdout",
     "output_type": "stream",
     "text": [
      "+------+-----+\n",
      "|  Name|Marks|\n",
      "+------+-----+\n",
      "|Subash|   80|\n",
      "| Manas|   75|\n",
      "|  NULL|   77|\n",
      "+------+-----+\n",
      "\n"
     ]
    }
   ],
   "source": [
    "df.filter(df['Marks'] >= 75).show()"
   ]
  },
  {
   "cell_type": "code",
   "execution_count": 58,
   "metadata": {},
   "outputs": [
    {
     "name": "stdout",
     "output_type": "stream",
     "text": [
      "+------+-----+------+\n",
      "|  Name|Marks|Branch|\n",
      "+------+-----+------+\n",
      "|Subash|   80|    IT|\n",
      "| Manas|   75|   CSE|\n",
      "|  NULL|   77|  AIML|\n",
      "+------+-----+------+\n",
      "\n"
     ]
    }
   ],
   "source": [
    "df.filter((df['Marks'] >= 75) & (df['Marks'] <= 85)).show()"
   ]
  },
  {
   "cell_type": "code",
   "execution_count": 61,
   "metadata": {},
   "outputs": [
    {
     "name": "stdout",
     "output_type": "stream",
     "text": [
      "+------+----------+\n",
      "|Branch|sum(Marks)|\n",
      "+------+----------+\n",
      "|  AIML|        77|\n",
      "|  NULL|      NULL|\n",
      "|    IT|        80|\n",
      "|   CSE|       240|\n",
      "+------+----------+\n",
      "\n"
     ]
    }
   ],
   "source": [
    "df.groupBy('Branch').sum().show()"
   ]
  },
  {
   "cell_type": "code",
   "execution_count": 62,
   "metadata": {},
   "outputs": [
    {
     "name": "stdout",
     "output_type": "stream",
     "text": [
      "+------+----------+\n",
      "|Branch|avg(Marks)|\n",
      "+------+----------+\n",
      "|  AIML|      77.0|\n",
      "|  NULL|      NULL|\n",
      "|    IT|      80.0|\n",
      "|   CSE|      80.0|\n",
      "+------+----------+\n",
      "\n"
     ]
    }
   ],
   "source": [
    "df.groupBy('Branch').mean().show()"
   ]
  },
  {
   "cell_type": "code",
   "execution_count": 63,
   "metadata": {},
   "outputs": [
    {
     "name": "stdout",
     "output_type": "stream",
     "text": [
      "+------+-----+\n",
      "|Branch|count|\n",
      "+------+-----+\n",
      "|  AIML|    1|\n",
      "|  NULL|    1|\n",
      "|    IT|    1|\n",
      "|   CSE|    3|\n",
      "+------+-----+\n",
      "\n"
     ]
    }
   ],
   "source": [
    "df.groupBy('Branch').count().show()"
   ]
  },
  {
   "cell_type": "code",
   "execution_count": 66,
   "metadata": {},
   "outputs": [
    {
     "name": "stdout",
     "output_type": "stream",
     "text": [
      "+------+----------+\n",
      "|Branch|avg(Marks)|\n",
      "+------+----------+\n",
      "|  AIML|      77.0|\n",
      "|  NULL|      NULL|\n",
      "|    IT|      80.0|\n",
      "|   CSE|      80.0|\n",
      "+------+----------+\n",
      "\n"
     ]
    }
   ],
   "source": [
    "df.groupBy('Branch').agg({'Marks':'sum', 'Marks':'mean'}).show()"
   ]
  },
  {
   "cell_type": "code",
   "execution_count": 70,
   "metadata": {},
   "outputs": [],
   "source": [
    "a,b = df.randomSplit([0.50, 0.50])"
   ]
  },
  {
   "cell_type": "code",
   "execution_count": 71,
   "metadata": {},
   "outputs": [
    {
     "name": "stdout",
     "output_type": "stream",
     "text": [
      "+----------+-----+------+\n",
      "|      Name|Marks|Branch|\n",
      "+----------+-----+------+\n",
      "|    Anvith|   95|   CSE|\n",
      "|Karthikeya|   70|   CSE|\n",
      "|    Subash|   80|    IT|\n",
      "+----------+-----+------+\n",
      "\n",
      "+-----+-----+------+\n",
      "| Name|Marks|Branch|\n",
      "+-----+-----+------+\n",
      "| NULL| NULL|  NULL|\n",
      "| NULL|   77|  AIML|\n",
      "|Manas|   75|   CSE|\n",
      "+-----+-----+------+\n",
      "\n"
     ]
    },
    {
     "data": {
      "text/plain": [
       "(None, None)"
      ]
     },
     "execution_count": 71,
     "metadata": {},
     "output_type": "execute_result"
    }
   ],
   "source": [
    "a.show(), b.show()"
   ]
  },
  {
   "cell_type": "code",
   "execution_count": 72,
   "metadata": {},
   "outputs": [],
   "source": [
    "saprk.stop()"
   ]
  }
 ],
 "metadata": {
  "kernelspec": {
   "display_name": "BdaEnv",
   "language": "python",
   "name": "python3"
  },
  "language_info": {
   "codemirror_mode": {
    "name": "ipython",
    "version": 3
   },
   "file_extension": ".py",
   "mimetype": "text/x-python",
   "name": "python",
   "nbconvert_exporter": "python",
   "pygments_lexer": "ipython3",
   "version": "3.10.12"
  }
 },
 "nbformat": 4,
 "nbformat_minor": 2
}
