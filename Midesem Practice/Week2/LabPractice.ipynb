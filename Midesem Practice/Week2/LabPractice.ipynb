{
 "cells": [
  {
   "cell_type": "code",
   "execution_count": 1,
   "metadata": {},
   "outputs": [],
   "source": [
    "from pyspark.sql import SparkSession"
   ]
  },
  {
   "cell_type": "code",
   "execution_count": 2,
   "metadata": {},
   "outputs": [
    {
     "name": "stderr",
     "output_type": "stream",
     "text": [
      "WARNING: Using incubator modules: jdk.incubator.vector\n",
      "Using Spark's default log4j profile: org/apache/spark/log4j2-defaults.properties\n",
      "25/08/31 12:33:35 WARN Utils: Your hostname, Karthikeya, resolves to a loopback address: 127.0.1.1; using 10.146.3.253 instead (on interface wlp1s0)\n",
      "25/08/31 12:33:35 WARN Utils: Set SPARK_LOCAL_IP if you need to bind to another address\n",
      "Using Spark's default log4j profile: org/apache/spark/log4j2-defaults.properties\n",
      "Setting default log level to \"WARN\".\n",
      "To adjust logging level use sc.setLogLevel(newLevel). For SparkR, use setLogLevel(newLevel).\n",
      "25/08/31 12:33:36 WARN NativeCodeLoader: Unable to load native-hadoop library for your platform... using builtin-java classes where applicable\n"
     ]
    }
   ],
   "source": [
    "spark = SparkSession.builder.appName('Week2Practice').getOrCreate()"
   ]
  },
  {
   "cell_type": "code",
   "execution_count": 3,
   "metadata": {},
   "outputs": [],
   "source": [
    "df = spark.read.csv('../../Week1/MOCK_DATA.csv', header=True, inferSchema=True)"
   ]
  },
  {
   "cell_type": "code",
   "execution_count": 7,
   "metadata": {},
   "outputs": [
    {
     "name": "stdout",
     "output_type": "stream",
     "text": [
      "+---+----------+----------+--------------------+-----------+---------------+\n",
      "| id|first_name| last_name|               email|     gender|     ip_address|\n",
      "+---+----------+----------+--------------------+-----------+---------------+\n",
      "| 21|    Brandy|    Varcoe|    bvarcoek@nyu.edu|       Male|  72.217.255.11|\n",
      "| 22|   Spencer|Quarterman|squartermanl@blog...| Non-binary|  195.224.44.71|\n",
      "| 23|     Tracy|      Goby|tgobym@huffington...|       Male|  223.82.198.91|\n",
      "| 24|     Quent|   Housego| qhousegon@yandex.ru|       Male| 150.232.37.115|\n",
      "| 25|     Waldo|    Cheine|    wcheineo@irs.gov|       Male| 245.71.190.133|\n",
      "| 26|     Addie|    Conner|aconnerp@plala.or.jp| Non-binary|  50.49.139.114|\n",
      "| 27|  Natalina|      Abry| nabryq@netvibes.com|     Female|   125.26.8.238|\n",
      "| 28|  Theodore|   Burkert|tburkertr@hugedom...|       Male| 193.13.101.202|\n",
      "| 29|    Tibold|  Nockalls|  tnockallss@last.fm|       Male|   110.78.22.58|\n",
      "| 30|  Douglass| Burnsides|dburnsidest@cyber...|       Male| 69.115.244.236|\n",
      "| 31|     Boote|      Code|  bcodeu@answers.com|       Male|   31.188.36.10|\n",
      "| 32|     Mandi|    Stocks|  mstocksv@opera.com|     Female|238.146.197.156|\n",
      "| 33|      Paco|  Petrillo|  ppetrillow@mlb.com|       Male| 211.214.31.172|\n",
      "| 34|   Brenden|  Holhouse|  bholhousex@icq.com|       Male|  63.220.12.183|\n",
      "| 35|    Damien|  Bootyman|dbootymany@sakura...|       Male|  128.92.22.237|\n",
      "| 36|    Ulrich|Wrotchford|uwrotchfordz@trel...|       Male|  234.68.117.39|\n",
      "| 37|   Leanora|     Bucky|lbucky10@yolasite...|Genderqueer|  97.121.206.33|\n",
      "| 38|  Berkeley|    Kochel|bkochel11@amazon....|       Male| 200.219.174.12|\n",
      "| 39|     Misti|    Harkin|    mharkin12@ed.gov|     Female|   88.41.138.40|\n",
      "| 40|   Kerrill|  Metcalfe| kmetcalfe13@cdc.gov|     Female| 193.160.50.193|\n",
      "+---+----------+----------+--------------------+-----------+---------------+\n",
      "only showing top 20 rows\n"
     ]
    }
   ],
   "source": [
    "df.filter('id > 20').show()"
   ]
  },
  {
   "cell_type": "code",
   "execution_count": 8,
   "metadata": {},
   "outputs": [],
   "source": [
    "spark.stop()"
   ]
  },
  {
   "cell_type": "code",
   "execution_count": 9,
   "metadata": {},
   "outputs": [],
   "source": [
    "from pyspark import SparkContext"
   ]
  },
  {
   "cell_type": "code",
   "execution_count": 10,
   "metadata": {},
   "outputs": [],
   "source": [
    "sc = SparkContext('local', 'Week2Practice')"
   ]
  },
  {
   "cell_type": "code",
   "execution_count": 21,
   "metadata": {},
   "outputs": [],
   "source": [
    "text_rdd = sc.textFile('../../Week2/sample.txt')"
   ]
  },
  {
   "cell_type": "code",
   "execution_count": 22,
   "metadata": {},
   "outputs": [],
   "source": [
    "words = text_rdd.flatMap(lambda w: w.lower().split())"
   ]
  },
  {
   "cell_type": "code",
   "execution_count": 26,
   "metadata": {},
   "outputs": [
    {
     "data": {
      "text/plain": [
       "'Total No of Words:200'"
      ]
     },
     "execution_count": 26,
     "metadata": {},
     "output_type": "execute_result"
    }
   ],
   "source": [
    "\"Total No of Words:\" + str(words.count())"
   ]
  },
  {
   "cell_type": "code",
   "execution_count": 27,
   "metadata": {},
   "outputs": [
    {
     "data": {
      "text/plain": [
       "'Total No of Words:145'"
      ]
     },
     "execution_count": 27,
     "metadata": {},
     "output_type": "execute_result"
    }
   ],
   "source": [
    "\"Total No of Words:\" + str(words.distinct().count())"
   ]
  },
  {
   "cell_type": "code",
   "execution_count": 30,
   "metadata": {},
   "outputs": [
    {
     "data": {
      "text/plain": [
       "22"
      ]
     },
     "execution_count": 30,
     "metadata": {},
     "output_type": "execute_result"
    }
   ],
   "source": [
    "words.map(lambda w: 1 if w.startswith('a') else 0).sum()"
   ]
  },
  {
   "cell_type": "code",
   "execution_count": 23,
   "metadata": {},
   "outputs": [],
   "source": [
    "words_count = words.map(lambda w: (w,1)).reduceByKey(lambda a,b: a+b)"
   ]
  },
  {
   "cell_type": "code",
   "execution_count": 24,
   "metadata": {},
   "outputs": [
    {
     "data": {
      "text/plain": [
       "[('lorem', 2),\n",
       " ('ipsum', 1),\n",
       " ('dolor', 1),\n",
       " ('sit', 4),\n",
       " ('amet,', 1),\n",
       " ('consectetuer', 1),\n",
       " ('adipiscing', 2),\n",
       " ('elit.', 1),\n",
       " ('aenean', 5),\n",
       " ('commodo', 1),\n",
       " ('ligula', 1),\n",
       " ('eget', 5),\n",
       " ('dolor.', 1),\n",
       " ('massa.', 1),\n",
       " ('cum', 1),\n",
       " ('sociis', 1),\n",
       " ('natoque', 1),\n",
       " ('penatibus', 1),\n",
       " ('et', 2),\n",
       " ('magnis', 1),\n",
       " ('dis', 1),\n",
       " ('parturient', 1),\n",
       " ('montes,', 1),\n",
       " ('nascetur', 1),\n",
       " ('ridiculus', 1),\n",
       " ('mus.', 1),\n",
       " ('donec', 4),\n",
       " ('quam', 3),\n",
       " ('felis,', 1),\n",
       " ('ultricies', 3),\n",
       " ('nec,', 2),\n",
       " ('pellentesque', 1),\n",
       " ('eu,', 2),\n",
       " ('pretium', 1),\n",
       " ('quis,', 2),\n",
       " ('sem.', 1),\n",
       " ('nulla', 2),\n",
       " ('consequat', 2),\n",
       " ('massa', 1),\n",
       " ('quis', 2),\n",
       " ('enim.', 2),\n",
       " ('pede', 2),\n",
       " ('justo,', 2),\n",
       " ('fringilla', 2),\n",
       " ('vel,', 2),\n",
       " ('aliquet', 1),\n",
       " ('vulputate', 2),\n",
       " ('eget,', 1),\n",
       " ('arcu.', 1),\n",
       " ('in', 1),\n",
       " ('enim', 1),\n",
       " ('rhoncus', 1),\n",
       " ('ut,', 1),\n",
       " ('imperdiet', 1),\n",
       " ('a,', 2),\n",
       " ('venenatis', 2),\n",
       " ('vitae,', 2),\n",
       " ('justo.', 1),\n",
       " ('nullam', 2),\n",
       " ('dictum', 1),\n",
       " ('felis', 1),\n",
       " ('eu', 1),\n",
       " ('mollis', 1),\n",
       " ('pretium.', 1),\n",
       " ('integer', 1),\n",
       " ('tincidunt.', 2),\n",
       " ('cras', 1),\n",
       " ('dapibus.', 1),\n",
       " ('vivamus', 1),\n",
       " ('elementum', 1),\n",
       " ('semper', 2),\n",
       " ('nisi.', 2),\n",
       " ('eleifend', 2),\n",
       " ('tellus.', 2),\n",
       " ('leo', 2),\n",
       " ('ligula,', 1),\n",
       " ('porttitor', 1),\n",
       " ('ac,', 1),\n",
       " ('aliquam', 1),\n",
       " ('ante,', 1),\n",
       " ('dapibus', 1),\n",
       " ('in,', 1),\n",
       " ('viverra', 2),\n",
       " ('feugiat', 1),\n",
       " ('phasellus', 1),\n",
       " ('ut', 2),\n",
       " ('metus', 1),\n",
       " ('varius', 1),\n",
       " ('laoreet.', 1),\n",
       " ('quisque', 1),\n",
       " ('rutrum.', 1),\n",
       " ('imperdiet.', 1),\n",
       " ('etiam', 3),\n",
       " ('nisi', 1),\n",
       " ('vel', 1),\n",
       " ('augue.', 1),\n",
       " ('curabitur', 1),\n",
       " ('ullamcorper', 1),\n",
       " ('nam', 2),\n",
       " ('dui.', 1),\n",
       " ('rhoncus.', 1),\n",
       " ('maecenas', 2),\n",
       " ('tempus,', 1),\n",
       " ('tellus', 1),\n",
       " ('condimentum', 1),\n",
       " ('rhoncus,', 1),\n",
       " ('sem', 2),\n",
       " ('libero,', 1),\n",
       " ('amet', 3),\n",
       " ('neque', 1),\n",
       " ('sed', 3),\n",
       " ('ipsum.', 1),\n",
       " ('nunc,', 2),\n",
       " ('blandit', 1),\n",
       " ('luctus', 1),\n",
       " ('pulvinar,', 1),\n",
       " ('hendrerit', 1),\n",
       " ('id,', 1),\n",
       " ('lorem.', 1),\n",
       " ('nec', 1),\n",
       " ('odio', 1),\n",
       " ('ante', 1),\n",
       " ('tincidunt', 1),\n",
       " ('tempus.', 1),\n",
       " ('vitae', 1),\n",
       " ('sapien', 1),\n",
       " ('libero', 1),\n",
       " ('faucibus.', 1),\n",
       " ('ante.', 1),\n",
       " ('orci', 1),\n",
       " ('eros', 1),\n",
       " ('faucibus', 1),\n",
       " ('duis', 1),\n",
       " ('leo.', 1),\n",
       " ('mauris', 1),\n",
       " ('nibh.', 1),\n",
       " ('sodales', 1),\n",
       " ('sagittis', 1),\n",
       " ('magna.', 1),\n",
       " ('consequat,', 1),\n",
       " ('bibendum', 1),\n",
       " ('sodales,', 1),\n",
       " ('augue', 1),\n",
       " ('velit', 1),\n",
       " ('cursus', 1)]"
      ]
     },
     "execution_count": 24,
     "metadata": {},
     "output_type": "execute_result"
    }
   ],
   "source": [
    "words_count.collect()"
   ]
  },
  {
   "cell_type": "code",
   "execution_count": 31,
   "metadata": {},
   "outputs": [],
   "source": [
    "words_count.saveAsTextFile('words_count')"
   ]
  },
  {
   "cell_type": "code",
   "execution_count": 33,
   "metadata": {},
   "outputs": [
    {
     "data": {
      "text/plain": [
       "[('aenean', 5), ('eget', 5), ('sit', 4), ('donec', 4), ('quam', 3)]"
      ]
     },
     "execution_count": 33,
     "metadata": {},
     "output_type": "execute_result"
    }
   ],
   "source": [
    "words_count.takeOrdered(5, lambda x: -x[1])"
   ]
  },
  {
   "cell_type": "code",
   "execution_count": 39,
   "metadata": {},
   "outputs": [
    {
     "data": {
      "text/plain": [
       "[('ipsum', 1),\n",
       " ('dolor', 1),\n",
       " ('amet,', 1),\n",
       " ('consectetuer', 1),\n",
       " ('elit.', 1),\n",
       " ('commodo', 1),\n",
       " ('ligula', 1),\n",
       " ('dolor.', 1),\n",
       " ('massa.', 1),\n",
       " ('cum', 1),\n",
       " ('sociis', 1),\n",
       " ('natoque', 1),\n",
       " ('penatibus', 1),\n",
       " ('magnis', 1),\n",
       " ('dis', 1),\n",
       " ('parturient', 1),\n",
       " ('montes,', 1),\n",
       " ('nascetur', 1),\n",
       " ('ridiculus', 1),\n",
       " ('mus.', 1),\n",
       " ('felis,', 1),\n",
       " ('pellentesque', 1),\n",
       " ('pretium', 1),\n",
       " ('sem.', 1),\n",
       " ('massa', 1),\n",
       " ('aliquet', 1),\n",
       " ('eget,', 1),\n",
       " ('arcu.', 1),\n",
       " ('in', 1),\n",
       " ('enim', 1),\n",
       " ('rhoncus', 1),\n",
       " ('ut,', 1),\n",
       " ('imperdiet', 1),\n",
       " ('justo.', 1),\n",
       " ('dictum', 1),\n",
       " ('felis', 1),\n",
       " ('eu', 1),\n",
       " ('mollis', 1),\n",
       " ('pretium.', 1),\n",
       " ('integer', 1),\n",
       " ('cras', 1),\n",
       " ('dapibus.', 1),\n",
       " ('vivamus', 1),\n",
       " ('elementum', 1),\n",
       " ('ligula,', 1),\n",
       " ('porttitor', 1),\n",
       " ('ac,', 1),\n",
       " ('aliquam', 1),\n",
       " ('ante,', 1),\n",
       " ('dapibus', 1),\n",
       " ('in,', 1),\n",
       " ('feugiat', 1),\n",
       " ('phasellus', 1),\n",
       " ('metus', 1),\n",
       " ('varius', 1),\n",
       " ('laoreet.', 1),\n",
       " ('quisque', 1),\n",
       " ('rutrum.', 1),\n",
       " ('imperdiet.', 1),\n",
       " ('nisi', 1),\n",
       " ('vel', 1),\n",
       " ('augue.', 1),\n",
       " ('curabitur', 1),\n",
       " ('ullamcorper', 1),\n",
       " ('dui.', 1),\n",
       " ('rhoncus.', 1),\n",
       " ('tempus,', 1),\n",
       " ('tellus', 1),\n",
       " ('condimentum', 1),\n",
       " ('rhoncus,', 1),\n",
       " ('libero,', 1),\n",
       " ('neque', 1),\n",
       " ('ipsum.', 1),\n",
       " ('blandit', 1),\n",
       " ('luctus', 1),\n",
       " ('pulvinar,', 1),\n",
       " ('hendrerit', 1),\n",
       " ('id,', 1),\n",
       " ('lorem.', 1),\n",
       " ('nec', 1),\n",
       " ('odio', 1),\n",
       " ('ante', 1),\n",
       " ('tincidunt', 1),\n",
       " ('tempus.', 1),\n",
       " ('vitae', 1),\n",
       " ('sapien', 1),\n",
       " ('libero', 1),\n",
       " ('faucibus.', 1),\n",
       " ('ante.', 1),\n",
       " ('orci', 1),\n",
       " ('eros', 1),\n",
       " ('faucibus', 1),\n",
       " ('duis', 1),\n",
       " ('leo.', 1),\n",
       " ('mauris', 1),\n",
       " ('nibh.', 1),\n",
       " ('sodales', 1),\n",
       " ('sagittis', 1),\n",
       " ('magna.', 1),\n",
       " ('consequat,', 1),\n",
       " ('bibendum', 1),\n",
       " ('sodales,', 1),\n",
       " ('augue', 1),\n",
       " ('velit', 1),\n",
       " ('cursus', 1)]"
      ]
     },
     "execution_count": 39,
     "metadata": {},
     "output_type": "execute_result"
    }
   ],
   "source": [
    "lowest_count = words_count.map(lambda w: w[1]).min()\n",
    "words_count.filter(lambda x: x[1] == lowest_count).collect()"
   ]
  },
  {
   "cell_type": "code",
   "execution_count": 41,
   "metadata": {},
   "outputs": [],
   "source": [
    "sc.stop()"
   ]
  }
 ],
 "metadata": {
  "kernelspec": {
   "display_name": "BdaEnv",
   "language": "python",
   "name": "python3"
  },
  "language_info": {
   "codemirror_mode": {
    "name": "ipython",
    "version": 3
   },
   "file_extension": ".py",
   "mimetype": "text/x-python",
   "name": "python",
   "nbconvert_exporter": "python",
   "pygments_lexer": "ipython3",
   "version": "3.10.12"
  }
 },
 "nbformat": 4,
 "nbformat_minor": 2
}
