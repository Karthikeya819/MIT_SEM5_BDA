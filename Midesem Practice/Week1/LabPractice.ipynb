{
 "cells": [
  {
   "cell_type": "code",
   "execution_count": 4,
   "metadata": {},
   "outputs": [],
   "source": [
    "from pyspark import SparkContext"
   ]
  },
  {
   "cell_type": "code",
   "execution_count": 5,
   "metadata": {},
   "outputs": [],
   "source": [
    "sc = SparkContext('local', 'Week1Practice')"
   ]
  },
  {
   "cell_type": "code",
   "execution_count": 15,
   "metadata": {},
   "outputs": [],
   "source": [
    "arr = sc.parallelize([1, 2, 3, 4, 5, 6])"
   ]
  },
  {
   "cell_type": "code",
   "execution_count": 16,
   "metadata": {},
   "outputs": [
    {
     "data": {
      "text/plain": [
       "[1, 2, 3, 4, 5, 6]"
      ]
     },
     "execution_count": 16,
     "metadata": {},
     "output_type": "execute_result"
    }
   ],
   "source": [
    "arr.collect()"
   ]
  },
  {
   "cell_type": "code",
   "execution_count": 26,
   "metadata": {},
   "outputs": [],
   "source": [
    "def square(i):\n",
    "    return i**2\n",
    "arr = arr.map(square)"
   ]
  },
  {
   "cell_type": "code",
   "execution_count": 27,
   "metadata": {},
   "outputs": [
    {
     "data": {
      "text/plain": [
       "[1, 4, 9, 16, 25, 36]"
      ]
     },
     "execution_count": 27,
     "metadata": {},
     "output_type": "execute_result"
    }
   ],
   "source": [
    "arr.collect()"
   ]
  },
  {
   "cell_type": "code",
   "execution_count": 28,
   "metadata": {},
   "outputs": [
    {
     "data": {
      "text/plain": [
       "36"
      ]
     },
     "execution_count": 28,
     "metadata": {},
     "output_type": "execute_result"
    }
   ],
   "source": [
    "arr.max()"
   ]
  },
  {
   "cell_type": "code",
   "execution_count": 29,
   "metadata": {},
   "outputs": [
    {
     "data": {
      "text/plain": [
       "15.166666666666668"
      ]
     },
     "execution_count": 29,
     "metadata": {},
     "output_type": "execute_result"
    }
   ],
   "source": [
    "arr.mean()"
   ]
  },
  {
   "cell_type": "code",
   "execution_count": 30,
   "metadata": {},
   "outputs": [],
   "source": [
    "sc.stop()"
   ]
  },
  {
   "cell_type": "code",
   "execution_count": 32,
   "metadata": {},
   "outputs": [],
   "source": [
    "from pyspark.sql import SparkSession"
   ]
  },
  {
   "cell_type": "code",
   "execution_count": 33,
   "metadata": {},
   "outputs": [],
   "source": [
    "spark = SparkSession.builder.appName(\"Week1Practice\").getOrCreate()"
   ]
  },
  {
   "cell_type": "code",
   "execution_count": 38,
   "metadata": {},
   "outputs": [],
   "source": [
    "df = spark.read.csv('../../Week1/MOCK_DATA.csv', header=True, inferSchema=True)"
   ]
  },
  {
   "cell_type": "code",
   "execution_count": 40,
   "metadata": {},
   "outputs": [
    {
     "name": "stdout",
     "output_type": "stream",
     "text": [
      "+---+----------+-----------+--------------------+-----------+---------------+\n",
      "| id|first_name|  last_name|               email|     gender|     ip_address|\n",
      "+---+----------+-----------+--------------------+-----------+---------------+\n",
      "|  1|     Ossie|    Lamborn|olamborn0@chicago...|       Male|    50.26.66.51|\n",
      "|  2|     Tonya|    Hazzard|thazzard1@canalbl...|     Female|130.135.190.120|\n",
      "|  3|     Jenni| Sedgefield|jsedgefield2@ramb...|Genderqueer|  23.100.91.208|\n",
      "|  4| Heriberto|    Lydford|hlydford3@reddit.com|       Male|  38.193.109.78|\n",
      "|  5|   Chaddie|     Haxbie|chaxbie4@creative...|       Male|145.192.132.186|\n",
      "|  6|      Toby| Strelitzer|tstrelitzer5@psu.edu|     Female| 107.100.247.36|\n",
      "|  7|     Jayme|   Ferrucci|jferrucci6@statco...|   Bigender| 109.159.10.209|\n",
      "|  8|   Marcile|  Jodrellec|mjodrellec7@blueh...|     Female| 248.32.122.143|\n",
      "|  9|    Murray|     Sonier|     msonier8@w3.org|       Male|  118.173.57.62|\n",
      "| 10|  Margette|   Christin|mchristin9@nytime...|     Female| 242.239.177.69|\n",
      "| 11|    Winnie|    Leyland|  wleylanda@time.com|     Female| 155.173.28.234|\n",
      "| 12|      Gabi|     Veysey|  gveyseyb@weibo.com|       Male|  57.161.139.30|\n",
      "| 13|    Joanna|     Gatiss| jgatissc@meetup.com|     Female| 25.244.215.184|\n",
      "| 14|    Barris|     Adicot| badicotd@utexas.edu|Genderfluid|  28.18.204.172|\n",
      "| 15|     Grant|    Letford|gletforde@dailymo...|       Male|  94.28.250.104|\n",
      "| 16|     Alice|    Quarles|    aquarlesf@hp.com|     Female|    3.118.202.4|\n",
      "| 17| Sallyanne|McEnteggart|smcenteggartg@irs...|     Female|115.243.202.191|\n",
      "| 18|   Caritta|  Willingam|cwillingamh@daily...|     Female|   42.126.24.26|\n",
      "| 19|    Joanie|     Ziehms|jziehmsi@timesonl...|     Female| 211.130.40.154|\n",
      "| 20|   Zsa zsa|    DeSousa|zdesousaj@network...|     Female|  246.54.170.82|\n",
      "+---+----------+-----------+--------------------+-----------+---------------+\n",
      "only showing top 20 rows\n"
     ]
    }
   ],
   "source": [
    "df.show()"
   ]
  },
  {
   "cell_type": "code",
   "execution_count": 45,
   "metadata": {},
   "outputs": [
    {
     "name": "stdout",
     "output_type": "stream",
     "text": [
      "+-------+-----------------+\n",
      "|summary|               id|\n",
      "+-------+-----------------+\n",
      "|  count|              500|\n",
      "|   mean|            250.5|\n",
      "| stddev|144.4818327679989|\n",
      "|    min|                1|\n",
      "|    max|              500|\n",
      "+-------+-----------------+\n",
      "\n"
     ]
    }
   ],
   "source": [
    "df.select('id').describe().show()"
   ]
  },
  {
   "cell_type": "code",
   "execution_count": 46,
   "metadata": {},
   "outputs": [],
   "source": [
    "spark.stop()"
   ]
  }
 ],
 "metadata": {
  "kernelspec": {
   "display_name": "BdaEnv",
   "language": "python",
   "name": "python3"
  },
  "language_info": {
   "codemirror_mode": {
    "name": "ipython",
    "version": 3
   },
   "file_extension": ".py",
   "mimetype": "text/x-python",
   "name": "python",
   "nbconvert_exporter": "python",
   "pygments_lexer": "ipython3",
   "version": "3.10.12"
  }
 },
 "nbformat": 4,
 "nbformat_minor": 2
}
