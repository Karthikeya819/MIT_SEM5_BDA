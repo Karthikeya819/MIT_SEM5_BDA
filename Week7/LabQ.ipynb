{
 "cells": [
  {
   "cell_type": "code",
   "execution_count": 29,
   "id": "4f635ba3",
   "metadata": {},
   "outputs": [],
   "source": [
    "from pyspark.sql import SparkSession\n",
    "from pyspark.ml.feature import MinMaxScaler, VectorAssembler\n",
    "from pyspark.ml.clustering import KMeans\n",
    "from pyspark.ml.evaluation import ClusteringEvaluator"
   ]
  },
  {
   "cell_type": "code",
   "execution_count": 2,
   "id": "67a2b357",
   "metadata": {},
   "outputs": [
    {
     "name": "stderr",
     "output_type": "stream",
     "text": [
      "WARNING: Using incubator modules: jdk.incubator.vector\n",
      "Using Spark's default log4j profile: org/apache/spark/log4j2-defaults.properties\n",
      "25/09/22 14:18:53 WARN Utils: Your hostname, dbl-23, resolves to a loopback address: 127.0.1.1; using 172.16.58.182 instead (on interface eno1)\n",
      "25/09/22 14:18:53 WARN Utils: Set SPARK_LOCAL_IP if you need to bind to another address\n",
      "Using Spark's default log4j profile: org/apache/spark/log4j2-defaults.properties\n",
      "Setting default log level to \"WARN\".\n",
      "To adjust logging level use sc.setLogLevel(newLevel). For SparkR, use setLogLevel(newLevel).\n",
      "25/09/22 14:18:53 WARN NativeCodeLoader: Unable to load native-hadoop library for your platform... using builtin-java classes where applicable\n"
     ]
    }
   ],
   "source": [
    "spark = SparkSession.builder.appName('Lab7').getOrCreate()"
   ]
  },
  {
   "cell_type": "code",
   "execution_count": 18,
   "id": "7574211d",
   "metadata": {},
   "outputs": [],
   "source": [
    "df = spark.read.csv('datasets/transactions_kmeans.csv', inferSchema=True, header=True)"
   ]
  },
  {
   "cell_type": "code",
   "execution_count": 19,
   "id": "b811e991",
   "metadata": {},
   "outputs": [
    {
     "name": "stdout",
     "output_type": "stream",
     "text": [
      "+-------------+------+--------+----------+\n",
      "|transactionId|amount|duration|locationId|\n",
      "+-------------+------+--------+----------+\n",
      "|        T0001|599.34|    NULL|         3|\n",
      "|        T0002|472.35|   35.61|         1|\n",
      "|        T0003|629.54|   40.83|        16|\n",
      "|        T0004|804.61|   40.54|         6|\n",
      "|        T0005|453.17|   16.22|        17|\n",
      "|        T0006|453.17|    NULL|         5|\n",
      "|        T0007|815.84|   35.15|         5|\n",
      "|        T0008|  NULL|   35.14|         6|\n",
      "|        T0009|406.11|   35.15|         3|\n",
      "|        T0010|608.51|   68.53|         5|\n",
      "+-------------+------+--------+----------+\n",
      "only showing top 10 rows\n"
     ]
    }
   ],
   "source": [
    "df.show(10)"
   ]
  },
  {
   "cell_type": "code",
   "execution_count": 20,
   "id": "5eff149d",
   "metadata": {},
   "outputs": [
    {
     "name": "stdout",
     "output_type": "stream",
     "text": [
      "root\n",
      " |-- transactionId: string (nullable = true)\n",
      " |-- amount: double (nullable = true)\n",
      " |-- duration: double (nullable = true)\n",
      " |-- locationId: integer (nullable = true)\n",
      "\n"
     ]
    }
   ],
   "source": [
    "df.printSchema()"
   ]
  },
  {
   "cell_type": "code",
   "execution_count": 21,
   "id": "a7bf613f",
   "metadata": {},
   "outputs": [],
   "source": [
    "df = df.na.drop()"
   ]
  },
  {
   "cell_type": "code",
   "execution_count": 22,
   "id": "bdf46afe",
   "metadata": {},
   "outputs": [],
   "source": [
    "assembler = VectorAssembler(inputCols=['amount', 'duration', 'locationId'], outputCol='features')\n",
    "df = assembler.transform(df)"
   ]
  },
  {
   "cell_type": "code",
   "execution_count": 23,
   "id": "46acadcb",
   "metadata": {},
   "outputs": [],
   "source": [
    "normalizer = MinMaxScaler(inputCol='features', outputCol='scaled_features')\n",
    "model = normalizer.fit(df)\n",
    "df = model.transform(df)"
   ]
  },
  {
   "cell_type": "code",
   "execution_count": 26,
   "id": "c57e5751",
   "metadata": {},
   "outputs": [],
   "source": [
    "kmeans = KMeans(featuresCol='scaled_features', predictionCol='prediction', k=2, seed=819)\n",
    "model_kmean = kmeans.fit(df)\n",
    "\n",
    "pred = model_kmean.transform(df)"
   ]
  },
  {
   "cell_type": "code",
   "execution_count": 28,
   "id": "13132ca8",
   "metadata": {},
   "outputs": [
    {
     "name": "stdout",
     "output_type": "stream",
     "text": [
      "+-------------+------+--------+----------+-------------------+--------------------+----------+\n",
      "|transactionId|amount|duration|locationId|           features|     scaled_features|prediction|\n",
      "+-------------+------+--------+----------+-------------------+--------------------+----------+\n",
      "|        T0002|472.35|   35.61|         1| [472.35,35.61,1.0]|[0.46470907694900...|         1|\n",
      "|        T0003|629.54|   40.83|        16|[629.54,40.83,16.0]|[0.61189348115133...|         0|\n",
      "|        T0004|804.61|   40.54|         6| [804.61,40.54,6.0]|[0.77581977190584...|         1|\n",
      "|        T0005|453.17|   16.22|        17|[453.17,16.22,17.0]|[0.44674993913743...|         0|\n",
      "|        T0007|815.84|   35.15|         5| [815.84,35.15,5.0]|[0.78633495009269...|         1|\n",
      "|        T0009|406.11|   35.15|         3| [406.11,35.15,3.0]|[0.40268544354763...|         1|\n",
      "|        T0010|608.51|   68.53|         5| [608.51,68.53,5.0]|[0.59220210116294...|         1|\n",
      "|        T0011|407.32|   35.71|         5| [407.32,35.71,5.0]|[0.40381842356598...|         1|\n",
      "|        T0013|548.39|   39.54|        10|[548.39,39.54,10.0]|[0.53590891215191...|         1|\n",
      "|        T0014|117.34|   36.51|        19|[117.34,36.51,19.0]|[0.13229648495290...|         0|\n",
      "|        T0015|155.02|   26.85|        17|[155.02,26.85,17.0]|[0.16757804453266...|         0|\n",
      "|        T0016|387.54|   37.59|        14|[387.54,37.59,14.0]|[0.38529747748085...|         0|\n",
      "|        T0017|297.43|   22.27|         9| [297.43,22.27,9.0]|[0.30092323826288...|         1|\n",
      "|        T0018|562.85|   27.63|        14|[562.85,27.63,14.0]|[0.54944849154478...|         0|\n",
      "|        T0019| 318.4|   25.15|         1|  [318.4,25.15,1.0]|[0.32055843742392...|         1|\n",
      "|        T0020|217.54|   30.82|        19|[217.54,30.82,19.0]|[0.22611846663795...|         0|\n",
      "|        T0021|793.13|   53.15|        13|[793.13,53.15,13.0]|[0.76507050693833...|         0|\n",
      "|        T0023|513.51|   36.86|         4| [513.51,36.86,4.0]|[0.50324912451544...|         1|\n",
      "|        T0025|391.12|   25.28|        17|[391.12,25.28,17.0]|[0.38864960017977...|         0|\n",
      "|        T0026|522.18|   40.89|         8| [522.18,40.89,8.0]|[0.51136725406842...|         1|\n",
      "+-------------+------+--------+----------+-------------------+--------------------+----------+\n",
      "only showing top 20 rows\n"
     ]
    }
   ],
   "source": [
    "pred.show()"
   ]
  },
  {
   "cell_type": "code",
   "execution_count": 30,
   "id": "804e6410",
   "metadata": {},
   "outputs": [
    {
     "name": "stdout",
     "output_type": "stream",
     "text": [
      "Silhouette Score = 0.019679457165916434\n"
     ]
    }
   ],
   "source": [
    "evaluator = ClusteringEvaluator(predictionCol='prediction')\n",
    "silhouette = evaluator.evaluate(pred)\n",
    "print(f\"Silhouette Score = {silhouette}\")"
   ]
  }
 ],
 "metadata": {
  "kernelspec": {
   "display_name": "sparkenv",
   "language": "python",
   "name": "myenv"
  },
  "language_info": {
   "codemirror_mode": {
    "name": "ipython",
    "version": 3
   },
   "file_extension": ".py",
   "mimetype": "text/x-python",
   "name": "python",
   "nbconvert_exporter": "python",
   "pygments_lexer": "ipython3",
   "version": "3.11.2"
  }
 },
 "nbformat": 4,
 "nbformat_minor": 5
}
