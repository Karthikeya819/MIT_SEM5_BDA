{
 "cells": [
  {
   "cell_type": "code",
   "execution_count": 132,
   "id": "2be0b058",
   "metadata": {},
   "outputs": [],
   "source": [
    "from pyspark.sql import SparkSession\n",
    "from pyspark.ml.feature import StringIndexer, VectorAssembler\n",
    "from pyspark.ml.classification import DecisionTreeClassifier\n",
    "from pyspark.ml.evaluation import MulticlassClassificationEvaluator"
   ]
  },
  {
   "cell_type": "code",
   "execution_count": 133,
   "id": "b770bf86",
   "metadata": {},
   "outputs": [],
   "source": [
    "spark = SparkSession.builder.appName('L6Q1').getOrCreate()"
   ]
  },
  {
   "cell_type": "code",
   "execution_count": 134,
   "id": "e00ef91c",
   "metadata": {},
   "outputs": [],
   "source": [
    "df = spark.read.csv('datasets/dt_data.csv', inferSchema=True, header=True)"
   ]
  },
  {
   "cell_type": "code",
   "execution_count": 135,
   "id": "d0b13a8c",
   "metadata": {},
   "outputs": [
    {
     "name": "stdout",
     "output_type": "stream",
     "text": [
      "+---+----+-------+----------+--------------+------+--------------+\n",
      "| id| age| income| education|marital_status|region|defaulted_loan|\n",
      "+---+----+-------+----------+--------------+------+--------------+\n",
      "|  1|NULL|   NULL|HighSchool|      Divorced|  NULL|           Yes|\n",
      "|  2|36.0|   NULL|    Master|       Married| North|            No|\n",
      "|  3|NULL|   NULL|    Master|       Married|  NULL|           Yes|\n",
      "|  4|39.0|   NULL|HighSchool|        Single| South|           Yes|\n",
      "|  5|NULL|91438.0|HighSchool|      Divorced| North|           Yes|\n",
      "+---+----+-------+----------+--------------+------+--------------+\n",
      "only showing top 5 rows\n"
     ]
    }
   ],
   "source": [
    "df.show(5)"
   ]
  },
  {
   "cell_type": "code",
   "execution_count": 136,
   "id": "2521b4d1",
   "metadata": {},
   "outputs": [
    {
     "name": "stdout",
     "output_type": "stream",
     "text": [
      "+-------+-----------------+------------------+-----------------+---------+--------------+------+--------------+\n",
      "|summary|               id|               age|           income|education|marital_status|region|defaulted_loan|\n",
      "+-------+-----------------+------------------+-----------------+---------+--------------+------+--------------+\n",
      "|  count|              500|               242|              248|      401|           382|   414|           500|\n",
      "|   mean|            250.5| 40.79752066115702| 64836.9314516129|     NULL|          NULL|  NULL|          NULL|\n",
      "| stddev|144.4818327679989|11.365135321733483|20285.73657135096|     NULL|          NULL|  NULL|          NULL|\n",
      "|    min|                1|              22.0|          31152.0| Bachelor|      Divorced|  East|            No|\n",
      "|    max|              500|              60.0|          99796.0|      PhD|        Single|  West|           Yes|\n",
      "+-------+-----------------+------------------+-----------------+---------+--------------+------+--------------+\n",
      "\n"
     ]
    }
   ],
   "source": [
    "df.describe().show()"
   ]
  },
  {
   "cell_type": "code",
   "execution_count": 137,
   "id": "d819ed69",
   "metadata": {},
   "outputs": [],
   "source": [
    "df = df.na.drop(subset=['region', 'defaulted_loan', 'education', 'marital_status'])"
   ]
  },
  {
   "cell_type": "code",
   "execution_count": 138,
   "id": "4f10bd32",
   "metadata": {},
   "outputs": [],
   "source": [
    "means = df.agg({'age': 'avg', 'income': 'avg'}).collect()\n",
    "age_mean = int(means[0]['avg(age)'])\n",
    "income_mean = int(means[0]['avg(income)'])"
   ]
  },
  {
   "cell_type": "code",
   "execution_count": 139,
   "id": "5ccc1035",
   "metadata": {},
   "outputs": [],
   "source": [
    "df = df.na.fill(age_mean, subset=['age'])\n",
    "df = df.na.fill(income_mean, subset=['income'])"
   ]
  },
  {
   "cell_type": "code",
   "execution_count": 140,
   "id": "7b6d811c",
   "metadata": {},
   "outputs": [],
   "source": [
    "indexer = StringIndexer(inputCols=['education', 'marital_status', 'region', 'defaulted_loan'], outputCols=['education_i', 'marital_status_i', 'region_i', 'defaulted_loan_i'])\n",
    "df = indexer.fit(df).transform(df)"
   ]
  },
  {
   "cell_type": "code",
   "execution_count": 141,
   "id": "423486d2",
   "metadata": {},
   "outputs": [],
   "source": [
    "vectorizer = VectorAssembler(inputCols=['age', 'income', 'education_i', 'marital_status_i', 'region_i'], outputCol='features')\n",
    "df = vectorizer.transform(df)"
   ]
  },
  {
   "cell_type": "code",
   "execution_count": 142,
   "id": "c4f55ef6",
   "metadata": {},
   "outputs": [],
   "source": [
    "df_train, df_test = df.randomSplit([0.8, 0.2], seed=819)"
   ]
  },
  {
   "cell_type": "code",
   "execution_count": 143,
   "id": "1b5aaa68",
   "metadata": {},
   "outputs": [],
   "source": [
    "dt = DecisionTreeClassifier(labelCol=\"defaulted_loan_i\", featuresCol=\"features\")\n",
    "model = dt.fit(df_train)\n",
    "pred = model.transform(df_test)"
   ]
  },
  {
   "cell_type": "code",
   "execution_count": 144,
   "id": "7b50a558",
   "metadata": {},
   "outputs": [],
   "source": [
    "eval_acc = MulticlassClassificationEvaluator(predictionCol='prediction', labelCol='defaulted_loan_i', metricName='accuracy')\n",
    "eval_pre = MulticlassClassificationEvaluator(predictionCol='prediction', labelCol='defaulted_loan_i', metricName='weightedPrecision')\n",
    "eval_rec = MulticlassClassificationEvaluator(predictionCol='prediction', labelCol='defaulted_loan_i', metricName='weightedRecall')"
   ]
  },
  {
   "cell_type": "code",
   "execution_count": 145,
   "id": "35ce96e9",
   "metadata": {},
   "outputs": [
    {
     "name": "stdout",
     "output_type": "stream",
     "text": [
      "Precision: 0.6751089324618736, Accuracy: 0.6481481481481481, Recall: 0.6481481481481481\n"
     ]
    }
   ],
   "source": [
    "accuracy = eval_acc.evaluate(pred)\n",
    "precision = eval_pre.evaluate(pred)\n",
    "recall = eval_rec.evaluate(pred)\n",
    "\n",
    "print(f'Precision: {precision}, Accuracy: {accuracy}, Recall: {recall}')"
   ]
  },
  {
   "cell_type": "code",
   "execution_count": 146,
   "id": "008f603a",
   "metadata": {},
   "outputs": [],
   "source": [
    "spark.stop()"
   ]
  }
 ],
 "metadata": {
  "kernelspec": {
   "display_name": "myEnv",
   "language": "python",
   "name": "python3"
  },
  "language_info": {
   "codemirror_mode": {
    "name": "ipython",
    "version": 3
   },
   "file_extension": ".py",
   "mimetype": "text/x-python",
   "name": "python",
   "nbconvert_exporter": "python",
   "pygments_lexer": "ipython3",
   "version": "3.11.2"
  }
 },
 "nbformat": 4,
 "nbformat_minor": 5
}
