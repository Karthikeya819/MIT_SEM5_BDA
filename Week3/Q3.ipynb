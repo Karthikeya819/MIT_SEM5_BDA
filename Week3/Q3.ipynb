{
 "cells": [
  {
   "cell_type": "code",
   "execution_count": 24,
   "id": "941139cb",
   "metadata": {},
   "outputs": [],
   "source": [
    "from pyspark.sql import SparkSession\n",
    "from pyspark.sql.functions import lit, col, when, sum"
   ]
  },
  {
   "cell_type": "code",
   "execution_count": 2,
   "id": "08f44e6e",
   "metadata": {},
   "outputs": [
    {
     "name": "stderr",
     "output_type": "stream",
     "text": [
      "WARNING: Using incubator modules: jdk.incubator.vector\n",
      "Using Spark's default log4j profile: org/apache/spark/log4j2-defaults.properties\n",
      "25/08/11 14:29:29 WARN Utils: Your hostname, dbl-23, resolves to a loopback address: 127.0.1.1; using 172.16.58.182 instead (on interface eno1)\n",
      "25/08/11 14:29:29 WARN Utils: Set SPARK_LOCAL_IP if you need to bind to another address\n",
      "Using Spark's default log4j profile: org/apache/spark/log4j2-defaults.properties\n",
      "Setting default log level to \"WARN\".\n",
      "To adjust logging level use sc.setLogLevel(newLevel). For SparkR, use setLogLevel(newLevel).\n",
      "25/08/11 14:29:30 WARN NativeCodeLoader: Unable to load native-hadoop library for your platform... using builtin-java classes where applicable\n"
     ]
    }
   ],
   "source": [
    "spark = SparkSession.builder.appName(\"L3Q3\").getOrCreate()"
   ]
  },
  {
   "cell_type": "code",
   "execution_count": 4,
   "id": "1311be8f",
   "metadata": {},
   "outputs": [],
   "source": [
    "df1 = spark.read.csv('datasets/jaccard_similarity/part-00000-1bb539b7-39d7-48af-9cf7-318f538e7ec8-c000.csv', header=True)\n",
    "df2 = spark.read.csv('datasets/jaccard_similarity/part-00001-1bb539b7-39d7-48af-9cf7-318f538e7ec8-c000.csv', header=True)\n",
    "\n",
    "df = df1.union(df2)"
   ]
  },
  {
   "cell_type": "code",
   "execution_count": 20,
   "id": "0a02572c",
   "metadata": {},
   "outputs": [],
   "source": [
    "df = df.withColumn('label', when(col('id_1') == col('id_2'), lit(1)).otherwise(lit(0)))\n",
    "df = df.withColumn('predicted_label', when(col('jaccard_similarity') > 0.5, lit(1)).otherwise(lit(0)))"
   ]
  },
  {
   "cell_type": "code",
   "execution_count": 22,
   "id": "4796ab36",
   "metadata": {},
   "outputs": [],
   "source": [
    "df = df.withColumn(\"TP\", when((col(\"label\") == 1) & (col(\"predicted_label\") == 1), 1).otherwise(0))\n",
    "df = df.withColumn(\"FP\", when((col(\"label\") == 0) & (col(\"predicted_label\") == 1), 1).otherwise(0))\n",
    "df = df.withColumn(\"TN\", when((col(\"label\") == 0) & (col(\"predicted_label\") == 0), 1).otherwise(0))\n",
    "df = df.withColumn(\"FN\", when((col(\"label\") == 1) & (col(\"predicted_label\") == 0), 1).otherwise(0))"
   ]
  },
  {
   "cell_type": "code",
   "execution_count": 35,
   "id": "ed507080",
   "metadata": {},
   "outputs": [
    {
     "name": "stderr",
     "output_type": "stream",
     "text": [
      "                                                                                \r"
     ]
    },
    {
     "data": {
      "text/plain": [
       "(26467214, 4639184, 26467214, 0)"
      ]
     },
     "execution_count": 35,
     "metadata": {},
     "output_type": "execute_result"
    }
   ],
   "source": [
    "TP = df.agg({\"TP\":\"sum\"}).collect()[0]['sum(TP)']\n",
    "FP = df.agg({\"FP\":\"sum\"}).collect()[0]['sum(FP)']\n",
    "TP = df.agg({\"TN\":\"sum\"}).collect()[0]['sum(TN)']\n",
    "FN = df.agg({\"FN\":\"sum\"}).collect()[0]['sum(FN)']\n",
    "\n",
    "TP, FP, TP, FN"
   ]
  },
  {
   "cell_type": "code",
   "execution_count": 38,
   "id": "2a2f1e81",
   "metadata": {},
   "outputs": [
    {
     "name": "stdout",
     "output_type": "stream",
     "text": [
      "Precision:  0.8508607779017037 Recall:  1.0 F1:  0.9194216961756716\n"
     ]
    }
   ],
   "source": [
    "precision = TP / (TP + FP)\n",
    "recall = TP / (TP + FN)\n",
    "F1 = (2*precision*recall) / (precision + recall)\n",
    "\n",
    "print(\"Precision: \", precision, \"Recall: \", recall, \"F1: \", F1)"
   ]
  },
  {
   "cell_type": "code",
   "execution_count": 37,
   "id": "8d1271b4",
   "metadata": {},
   "outputs": [],
   "source": [
    "spark.stop()"
   ]
  }
 ],
 "metadata": {
  "kernelspec": {
   "display_name": "sparkenv",
   "language": "python",
   "name": "myenv"
  },
  "language_info": {
   "codemirror_mode": {
    "name": "ipython",
    "version": 3
   },
   "file_extension": ".py",
   "mimetype": "text/x-python",
   "name": "python",
   "nbconvert_exporter": "python",
   "pygments_lexer": "ipython3",
   "version": "3.11.2"
  }
 },
 "nbformat": 4,
 "nbformat_minor": 5
}
