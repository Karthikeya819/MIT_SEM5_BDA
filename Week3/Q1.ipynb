{
 "cells": [
  {
   "cell_type": "code",
   "execution_count": null,
   "id": "217d0d7e",
   "metadata": {},
   "outputs": [],
   "source": [
    "from pyspark.sql import SparkSession\n",
    "from pyspark.sql.functions import col, lower, trim, array_join\n",
    "from pyspark.ml.feature import Tokenizer"
   ]
  },
  {
   "cell_type": "code",
   "execution_count": 22,
   "id": "2db02b5d",
   "metadata": {},
   "outputs": [],
   "source": [
    "spark = SparkSession.builder.appName('L3Q1').getOrCreate()"
   ]
  },
  {
   "cell_type": "code",
   "execution_count": 31,
   "id": "28d33a72",
   "metadata": {},
   "outputs": [],
   "source": [
    "df1 = spark.read.csv('datasets/lab3_1_dataset.csv', header=True)\n",
    "df2 = spark.read.csv('datasets/lab3_2_dataset.csv', header=True)\n",
    "df = df1.union(df2)"
   ]
  },
  {
   "cell_type": "code",
   "execution_count": 32,
   "id": "dc464e42",
   "metadata": {},
   "outputs": [
    {
     "name": "stdout",
     "output_type": "stream",
     "text": [
      "+----+--------------+--------------------+\n",
      "|  id|          name|             address|\n",
      "+----+--------------+--------------------+\n",
      "|1859|    Nkev Koquo|1087 Uxkgk St, Zw...|\n",
      "|1402| Awdeltx Flswj|1313 Bysqtepcyb S...|\n",
      "|3503| Zvgk Qmnjjfub|4451 Uymmthnzp St...|\n",
      "|1009|Suaxud Ybukuxq|4793 Fodikswks St...|\n",
      "|2737|          NULL|                NULL|\n",
      "+----+--------------+--------------------+\n",
      "only showing top 5 rows\n"
     ]
    }
   ],
   "source": [
    "df.show(5)"
   ]
  },
  {
   "cell_type": "code",
   "execution_count": null,
   "id": "baf95e95",
   "metadata": {},
   "outputs": [],
   "source": [
    "df_clean = df.withColumn('name', lower(trim(col('name'))))\n",
    "df_clean = df.dropna()"
   ]
  },
  {
   "cell_type": "code",
   "execution_count": 40,
   "id": "5f61f11f",
   "metadata": {},
   "outputs": [],
   "source": [
    "tokenizer = Tokenizer(inputCol=\"name\", outputCol=\"tokens\")\n",
    "df_tokens = tokenizer.transform(df_clean)"
   ]
  },
  {
   "cell_type": "code",
   "execution_count": 41,
   "id": "512c33b0",
   "metadata": {},
   "outputs": [
    {
     "name": "stdout",
     "output_type": "stream",
     "text": [
      "+----+---------------+--------------------+------------------+\n",
      "|  id|           name|             address|            tokens|\n",
      "+----+---------------+--------------------+------------------+\n",
      "|1859|     Nkev Koquo|1087 Uxkgk St, Zw...|     [nkev, koquo]|\n",
      "|1402|  Awdeltx Flswj|1313 Bysqtepcyb S...|  [awdeltx, flswj]|\n",
      "|3503|  Zvgk Qmnjjfub|4451 Uymmthnzp St...|  [zvgk, qmnjjfub]|\n",
      "|1009| Suaxud Ybukuxq|4793 Fodikswks St...| [suaxud, ybukuxq]|\n",
      "| 276|Bdiolpnl Iduwpc|3640 Hrfulh St, C...|[bdiolpnl, iduwpc]|\n",
      "+----+---------------+--------------------+------------------+\n",
      "only showing top 5 rows\n"
     ]
    }
   ],
   "source": [
    "df_tokens.show(5)"
   ]
  },
  {
   "cell_type": "code",
   "execution_count": 49,
   "id": "57edf94f",
   "metadata": {},
   "outputs": [],
   "source": [
    "df_tokens = df_tokens.withColumn('tokens', array_join('tokens', \",\"))\n",
    "df_tokens.write.csv('datasets/Tokenized.csv', header=True)"
   ]
  },
  {
   "cell_type": "code",
   "execution_count": 50,
   "id": "d38976b4",
   "metadata": {},
   "outputs": [],
   "source": [
    "spark.stop()"
   ]
  }
 ],
 "metadata": {
  "kernelspec": {
   "display_name": "sparkenv",
   "language": "python",
   "name": "myenv"
  },
  "language_info": {
   "codemirror_mode": {
    "name": "ipython",
    "version": 3
   },
   "file_extension": ".py",
   "mimetype": "text/x-python",
   "name": "python",
   "nbconvert_exporter": "python",
   "pygments_lexer": "ipython3",
   "version": "3.11.2"
  }
 },
 "nbformat": 4,
 "nbformat_minor": 5
}
