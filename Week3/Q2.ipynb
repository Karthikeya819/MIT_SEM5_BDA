{
 "cells": [
  {
   "cell_type": "code",
   "execution_count": 17,
   "id": "78b816df",
   "metadata": {},
   "outputs": [],
   "source": [
    "from pyspark.sql import SparkSession\n",
    "from pyspark.sql.functions import col, split, udf\n",
    "from pyspark.sql.types import FloatType"
   ]
  },
  {
   "cell_type": "code",
   "execution_count": 7,
   "id": "31b84f93",
   "metadata": {},
   "outputs": [],
   "source": [
    "spark = SparkSession.builder.appName(\"L3Q2\").getOrCreate()"
   ]
  },
  {
   "cell_type": "code",
   "execution_count": 19,
   "id": "3dbb20f3",
   "metadata": {},
   "outputs": [],
   "source": [
    "df1 = spark.read.csv('datasets/Tokenized.csv/part-00000-8ad89596-b847-43fc-b712-ec12acf2c8ce-c000.csv', header=True)\n",
    "df2 = spark.read.csv('datasets/Tokenized.csv/part-00001-8ad89596-b847-43fc-b712-ec12acf2c8ce-c000.csv', header=True)\n",
    "\n",
    "df = df1.union(df2)\n"
   ]
  },
  {
   "cell_type": "code",
   "execution_count": 20,
   "id": "0c4731d4",
   "metadata": {},
   "outputs": [],
   "source": [
    "df = df.withColumn('tokens', split('tokens', ','))\n",
    "df_pairs = df.alias(\"a\").crossJoin(df.alias(\"b\")).where(col(\"a.id\") < col(\"b.id\"))"
   ]
  },
  {
   "cell_type": "code",
   "execution_count": 32,
   "id": "6a01895b",
   "metadata": {},
   "outputs": [],
   "source": [
    "def jaccard_similarity(tokens1, tokens2):\n",
    "    set1 = set(str(tokens1))\n",
    "    set2 = set(str(tokens2))\n",
    "    intersection = set1.intersection(set2)\n",
    "    union = set1.union(set2)\n",
    "    if not union:\n",
    "        return 0.0\n",
    "    return float(len(intersection)) / len(union)"
   ]
  },
  {
   "cell_type": "code",
   "execution_count": 33,
   "id": "b40a2150",
   "metadata": {},
   "outputs": [],
   "source": [
    "jaccard_udf = udf(jaccard_similarity)"
   ]
  },
  {
   "cell_type": "code",
   "execution_count": 35,
   "id": "e2ec7061",
   "metadata": {},
   "outputs": [
    {
     "name": "stdout",
     "output_type": "stream",
     "text": [
      "+----+----+-------------------+\n",
      "|id_1|id_2| jaccard_similarity|\n",
      "+----+----+-------------------+\n",
      "|1859|3503| 0.5555555555555556|\n",
      "|1859| 276|0.42105263157894735|\n",
      "|1859|4600|0.23809523809523808|\n",
      "|1859| 580|               0.35|\n",
      "|1859|4861|0.42105263157894735|\n",
      "+----+----+-------------------+\n",
      "only showing top 5 rows\n"
     ]
    }
   ],
   "source": [
    "result = df_pairs.withColumn(\"jaccard_similarity\",jaccard_udf(col(\"a.tokens\"), col(\"b.tokens\"))).select(col('a.id').alias('id_1'), col('b.id').alias('id_2'),col('jaccard_similarity'))\n",
    "result.show(5)"
   ]
  }
 ],
 "metadata": {
  "kernelspec": {
   "display_name": "sparkenv",
   "language": "python",
   "name": "myenv"
  },
  "language_info": {
   "codemirror_mode": {
    "name": "ipython",
    "version": 3
   },
   "file_extension": ".py",
   "mimetype": "text/x-python",
   "name": "python",
   "nbconvert_exporter": "python",
   "pygments_lexer": "ipython3",
   "version": "3.11.2"
  }
 },
 "nbformat": 4,
 "nbformat_minor": 5
}
